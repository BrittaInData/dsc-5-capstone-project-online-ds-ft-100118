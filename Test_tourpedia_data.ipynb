{
 "cells": [
  {
   "cell_type": "code",
   "execution_count": 12,
   "metadata": {},
   "outputs": [],
   "source": [
    "import pandas as pd"
   ]
  },
  {
   "cell_type": "code",
   "execution_count": 2,
   "metadata": {},
   "outputs": [],
   "source": [
    "df = pd.read_csv('data/berlin-accommodation.csv')"
   ]
  },
  {
   "cell_type": "code",
   "execution_count": 3,
   "metadata": {},
   "outputs": [
    {
     "data": {
      "text/plain": [
       "(2887, 12)"
      ]
     },
     "execution_count": 3,
     "metadata": {},
     "output_type": "execute_result"
    }
   ],
   "source": [
    "df.shape"
   ]
  },
  {
   "cell_type": "code",
   "execution_count": 4,
   "metadata": {},
   "outputs": [
    {
     "data": {
      "text/html": [
       "<div>\n",
       "<style scoped>\n",
       "    .dataframe tbody tr th:only-of-type {\n",
       "        vertical-align: middle;\n",
       "    }\n",
       "\n",
       "    .dataframe tbody tr th {\n",
       "        vertical-align: top;\n",
       "    }\n",
       "\n",
       "    .dataframe thead th {\n",
       "        text-align: right;\n",
       "    }\n",
       "</style>\n",
       "<table border=\"1\" class=\"dataframe\">\n",
       "  <thead>\n",
       "    <tr style=\"text-align: right;\">\n",
       "      <th></th>\n",
       "      <th>address</th>\n",
       "      <th>category</th>\n",
       "      <th>id</th>\n",
       "      <th>lat</th>\n",
       "      <th>lng</th>\n",
       "      <th>location</th>\n",
       "      <th>name</th>\n",
       "      <th>originalId</th>\n",
       "      <th>polarity</th>\n",
       "      <th>subCategory</th>\n",
       "      <th>details</th>\n",
       "      <th>reviews</th>\n",
       "    </tr>\n",
       "  </thead>\n",
       "  <tbody>\n",
       "    <tr>\n",
       "      <th>0</th>\n",
       "      <td>Eichendorffstr. 4</td>\n",
       "      <td>accommodation</td>\n",
       "      <td>91904</td>\n",
       "      <td>52.530068167132</td>\n",
       "      <td>13.388135746622</td>\n",
       "      <td>Berlin</td>\n",
       "      <td>Hotel Zarenhof Berlin-Mitte</td>\n",
       "      <td>4a1c85d4f964a520467b1fe3</td>\n",
       "      <td>0</td>\n",
       "      <td>Hotel</td>\n",
       "      <td>http://tour-pedia.org/api/getPlaceDetails?id=9...</td>\n",
       "      <td>http://tour-pedia.org/api/getReviewsByPlaceId?...</td>\n",
       "    </tr>\n",
       "    <tr>\n",
       "      <th>1</th>\n",
       "      <td>An der Urania 16-18</td>\n",
       "      <td>accommodation</td>\n",
       "      <td>91921</td>\n",
       "      <td>52.501832343626</td>\n",
       "      <td>13.347193587317</td>\n",
       "      <td>Berlin</td>\n",
       "      <td>Best Western Hotel President Berlin</td>\n",
       "      <td>4adcda6ef964a520cb4421e3</td>\n",
       "      <td>0</td>\n",
       "      <td>Hotel</td>\n",
       "      <td>http://tour-pedia.org/api/getPlaceDetails?id=9...</td>\n",
       "      <td>http://tour-pedia.org/api/getReviewsByPlaceId?...</td>\n",
       "    </tr>\n",
       "    <tr>\n",
       "      <th>2</th>\n",
       "      <td>Halenseestrasse 51</td>\n",
       "      <td>accommodation</td>\n",
       "      <td>91934</td>\n",
       "      <td>52.501500248909</td>\n",
       "      <td>13.277047276497</td>\n",
       "      <td>Berlin</td>\n",
       "      <td>Motel Avus</td>\n",
       "      <td>4adcda6ff964a520db4421e3</td>\n",
       "      <td>0</td>\n",
       "      <td>Hotel</td>\n",
       "      <td>http://tour-pedia.org/api/getPlaceDetails?id=9...</td>\n",
       "      <td>http://tour-pedia.org/api/getReviewsByPlaceId?...</td>\n",
       "    </tr>\n",
       "    <tr>\n",
       "      <th>3</th>\n",
       "      <td>Fasanenstr. 2</td>\n",
       "      <td>accommodation</td>\n",
       "      <td>91940</td>\n",
       "      <td>52.507759698801</td>\n",
       "      <td>13.328216718728</td>\n",
       "      <td>Berlin</td>\n",
       "      <td>Hotel Astoria</td>\n",
       "      <td>4adcda70f964a520014521e3</td>\n",
       "      <td>0</td>\n",
       "      <td>Hotel</td>\n",
       "      <td>http://tour-pedia.org/api/getPlaceDetails?id=9...</td>\n",
       "      <td>http://tour-pedia.org/api/getReviewsByPlaceId?...</td>\n",
       "    </tr>\n",
       "    <tr>\n",
       "      <th>4</th>\n",
       "      <td>Wittelsbacherstr. 22</td>\n",
       "      <td>accommodation</td>\n",
       "      <td>91942</td>\n",
       "      <td>52.495192803401</td>\n",
       "      <td>13.310279846191</td>\n",
       "      <td>Berlin</td>\n",
       "      <td>Hotel Wittelsbach</td>\n",
       "      <td>4adcda70f964a520034521e3</td>\n",
       "      <td>0</td>\n",
       "      <td>Hotel</td>\n",
       "      <td>http://tour-pedia.org/api/getPlaceDetails?id=9...</td>\n",
       "      <td>http://tour-pedia.org/api/getReviewsByPlaceId?...</td>\n",
       "    </tr>\n",
       "  </tbody>\n",
       "</table>\n",
       "</div>"
      ],
      "text/plain": [
       "                address       category     id              lat  \\\n",
       "0     Eichendorffstr. 4  accommodation  91904  52.530068167132   \n",
       "1   An der Urania 16-18  accommodation  91921  52.501832343626   \n",
       "2    Halenseestrasse 51  accommodation  91934  52.501500248909   \n",
       "3         Fasanenstr. 2  accommodation  91940  52.507759698801   \n",
       "4  Wittelsbacherstr. 22  accommodation  91942  52.495192803401   \n",
       "\n",
       "               lng location                                 name  \\\n",
       "0  13.388135746622   Berlin          Hotel Zarenhof Berlin-Mitte   \n",
       "1  13.347193587317   Berlin  Best Western Hotel President Berlin   \n",
       "2  13.277047276497   Berlin                           Motel Avus   \n",
       "3  13.328216718728   Berlin                        Hotel Astoria   \n",
       "4  13.310279846191   Berlin                    Hotel Wittelsbach   \n",
       "\n",
       "                 originalId polarity subCategory  \\\n",
       "0  4a1c85d4f964a520467b1fe3        0       Hotel   \n",
       "1  4adcda6ef964a520cb4421e3        0       Hotel   \n",
       "2  4adcda6ff964a520db4421e3        0       Hotel   \n",
       "3  4adcda70f964a520014521e3        0       Hotel   \n",
       "4  4adcda70f964a520034521e3        0       Hotel   \n",
       "\n",
       "                                             details  \\\n",
       "0  http://tour-pedia.org/api/getPlaceDetails?id=9...   \n",
       "1  http://tour-pedia.org/api/getPlaceDetails?id=9...   \n",
       "2  http://tour-pedia.org/api/getPlaceDetails?id=9...   \n",
       "3  http://tour-pedia.org/api/getPlaceDetails?id=9...   \n",
       "4  http://tour-pedia.org/api/getPlaceDetails?id=9...   \n",
       "\n",
       "                                             reviews  \n",
       "0  http://tour-pedia.org/api/getReviewsByPlaceId?...  \n",
       "1  http://tour-pedia.org/api/getReviewsByPlaceId?...  \n",
       "2  http://tour-pedia.org/api/getReviewsByPlaceId?...  \n",
       "3  http://tour-pedia.org/api/getReviewsByPlaceId?...  \n",
       "4  http://tour-pedia.org/api/getReviewsByPlaceId?...  "
      ]
     },
     "execution_count": 4,
     "metadata": {},
     "output_type": "execute_result"
    }
   ],
   "source": [
    "df.head()"
   ]
  },
  {
   "cell_type": "code",
   "execution_count": 8,
   "metadata": {},
   "outputs": [],
   "source": [
    "df = pd.read_csv('data/berlin-restaurant.csv')"
   ]
  },
  {
   "cell_type": "code",
   "execution_count": 10,
   "metadata": {},
   "outputs": [
    {
     "data": {
      "text/plain": [
       "(16486, 12)"
      ]
     },
     "execution_count": 10,
     "metadata": {},
     "output_type": "execute_result"
    }
   ],
   "source": [
    "df.shape"
   ]
  },
  {
   "cell_type": "code",
   "execution_count": 9,
   "metadata": {},
   "outputs": [
    {
     "data": {
      "text/html": [
       "<div>\n",
       "<style scoped>\n",
       "    .dataframe tbody tr th:only-of-type {\n",
       "        vertical-align: middle;\n",
       "    }\n",
       "\n",
       "    .dataframe tbody tr th {\n",
       "        vertical-align: top;\n",
       "    }\n",
       "\n",
       "    .dataframe thead th {\n",
       "        text-align: right;\n",
       "    }\n",
       "</style>\n",
       "<table border=\"1\" class=\"dataframe\">\n",
       "  <thead>\n",
       "    <tr style=\"text-align: right;\">\n",
       "      <th></th>\n",
       "      <th>address</th>\n",
       "      <th>category</th>\n",
       "      <th>id</th>\n",
       "      <th>lat</th>\n",
       "      <th>lng</th>\n",
       "      <th>location</th>\n",
       "      <th>name</th>\n",
       "      <th>originalId</th>\n",
       "      <th>polarity</th>\n",
       "      <th>subCategory</th>\n",
       "      <th>details</th>\n",
       "      <th>reviews</th>\n",
       "    </tr>\n",
       "  </thead>\n",
       "  <tbody>\n",
       "    <tr>\n",
       "      <th>0</th>\n",
       "      <td>Rigaer Straße 25</td>\n",
       "      <td>restaurant</td>\n",
       "      <td>91911</td>\n",
       "      <td>52.517113887391</td>\n",
       "      <td>13.46175956167</td>\n",
       "      <td>Berlin</td>\n",
       "      <td>Casablanca</td>\n",
       "      <td>4a944034f964a520ec2020e3</td>\n",
       "      <td>0</td>\n",
       "      <td>Falafel Restaurant</td>\n",
       "      <td>http://tour-pedia.org/api/getPlaceDetails?id=9...</td>\n",
       "      <td>http://tour-pedia.org/api/getReviewsByPlaceId?...</td>\n",
       "    </tr>\n",
       "    <tr>\n",
       "      <th>1</th>\n",
       "      <td>Fasanenstr. 9-10</td>\n",
       "      <td>restaurant</td>\n",
       "      <td>91920</td>\n",
       "      <td>52.506011569827</td>\n",
       "      <td>13.32805032307</td>\n",
       "      <td>Berlin</td>\n",
       "      <td>Hotel Savoy Berlin</td>\n",
       "      <td>4adcda6ef964a520ca4421e3</td>\n",
       "      <td>0</td>\n",
       "      <td>Hotel</td>\n",
       "      <td>http://tour-pedia.org/api/getPlaceDetails?id=9...</td>\n",
       "      <td>http://tour-pedia.org/api/getReviewsByPlaceId?...</td>\n",
       "    </tr>\n",
       "    <tr>\n",
       "      <th>2</th>\n",
       "      <td>Gubener Str. 42</td>\n",
       "      <td>restaurant</td>\n",
       "      <td>91947</td>\n",
       "      <td>52.511193329824</td>\n",
       "      <td>13.449347019196</td>\n",
       "      <td>Berlin</td>\n",
       "      <td>Upstalsboom Hotel</td>\n",
       "      <td>4adcda70f964a520094521e3</td>\n",
       "      <td>0</td>\n",
       "      <td>Hotel</td>\n",
       "      <td>http://tour-pedia.org/api/getPlaceDetails?id=9...</td>\n",
       "      <td>http://tour-pedia.org/api/getReviewsByPlaceId?...</td>\n",
       "    </tr>\n",
       "    <tr>\n",
       "      <th>3</th>\n",
       "      <td>Bleibtreustr. 31</td>\n",
       "      <td>restaurant</td>\n",
       "      <td>91956</td>\n",
       "      <td>52.500142117474</td>\n",
       "      <td>13.319578369231</td>\n",
       "      <td>Berlin</td>\n",
       "      <td>Hotel Bleibtreu</td>\n",
       "      <td>4adcda70f964a520f34421e3</td>\n",
       "      <td>0</td>\n",
       "      <td>Hotel</td>\n",
       "      <td>http://tour-pedia.org/api/getPlaceDetails?id=9...</td>\n",
       "      <td>http://tour-pedia.org/api/getReviewsByPlaceId?...</td>\n",
       "    </tr>\n",
       "    <tr>\n",
       "      <th>4</th>\n",
       "      <td>Augsburger Str. 41</td>\n",
       "      <td>restaurant</td>\n",
       "      <td>92003</td>\n",
       "      <td>52.502707245292</td>\n",
       "      <td>13.331705331802</td>\n",
       "      <td>Berlin</td>\n",
       "      <td>Hotel Concorde Berlin</td>\n",
       "      <td>4adcda72f964a520484521e3</td>\n",
       "      <td>0</td>\n",
       "      <td>Hotel</td>\n",
       "      <td>http://tour-pedia.org/api/getPlaceDetails?id=9...</td>\n",
       "      <td>http://tour-pedia.org/api/getReviewsByPlaceId?...</td>\n",
       "    </tr>\n",
       "  </tbody>\n",
       "</table>\n",
       "</div>"
      ],
      "text/plain": [
       "              address    category     id              lat              lng  \\\n",
       "0    Rigaer Straße 25  restaurant  91911  52.517113887391   13.46175956167   \n",
       "1    Fasanenstr. 9-10  restaurant  91920  52.506011569827   13.32805032307   \n",
       "2     Gubener Str. 42  restaurant  91947  52.511193329824  13.449347019196   \n",
       "3    Bleibtreustr. 31  restaurant  91956  52.500142117474  13.319578369231   \n",
       "4  Augsburger Str. 41  restaurant  92003  52.502707245292  13.331705331802   \n",
       "\n",
       "  location                   name                originalId polarity  \\\n",
       "0   Berlin             Casablanca  4a944034f964a520ec2020e3        0   \n",
       "1   Berlin     Hotel Savoy Berlin  4adcda6ef964a520ca4421e3        0   \n",
       "2   Berlin      Upstalsboom Hotel  4adcda70f964a520094521e3        0   \n",
       "3   Berlin        Hotel Bleibtreu  4adcda70f964a520f34421e3        0   \n",
       "4   Berlin  Hotel Concorde Berlin  4adcda72f964a520484521e3        0   \n",
       "\n",
       "          subCategory                                            details  \\\n",
       "0  Falafel Restaurant  http://tour-pedia.org/api/getPlaceDetails?id=9...   \n",
       "1               Hotel  http://tour-pedia.org/api/getPlaceDetails?id=9...   \n",
       "2               Hotel  http://tour-pedia.org/api/getPlaceDetails?id=9...   \n",
       "3               Hotel  http://tour-pedia.org/api/getPlaceDetails?id=9...   \n",
       "4               Hotel  http://tour-pedia.org/api/getPlaceDetails?id=9...   \n",
       "\n",
       "                                             reviews  \n",
       "0  http://tour-pedia.org/api/getReviewsByPlaceId?...  \n",
       "1  http://tour-pedia.org/api/getReviewsByPlaceId?...  \n",
       "2  http://tour-pedia.org/api/getReviewsByPlaceId?...  \n",
       "3  http://tour-pedia.org/api/getReviewsByPlaceId?...  \n",
       "4  http://tour-pedia.org/api/getReviewsByPlaceId?...  "
      ]
     },
     "execution_count": 9,
     "metadata": {},
     "output_type": "execute_result"
    }
   ],
   "source": [
    "df.head()"
   ]
  },
  {
   "cell_type": "code",
   "execution_count": 11,
   "metadata": {},
   "outputs": [
    {
     "data": {
      "text/plain": [
       "array(['Falafel Restaurant', 'Hotel', 'Brewery', 'Breakfast Spot', 'Pub',\n",
       "       'French Restaurant', nan, 'German Restaurant', 'Tea Room', 'Café',\n",
       "       'Dive Bar', 'Italian Restaurant', 'Coffee Shop', 'Scenic Lookout',\n",
       "       'Art Museum', 'Restaurant', 'Asian Restaurant',\n",
       "       'Chinese Restaurant', 'Electronics Store', 'Sushi Restaurant',\n",
       "       'Coworking Space', 'Vegetarian / Vegan Restaurant', 'Burger Joint',\n",
       "       'Korean Restaurant', 'Swiss Restaurant', 'Vietnamese Restaurant',\n",
       "       'Bakery', 'Turkish Restaurant', 'College Cafeteria', 'Bar',\n",
       "       'Indian Restaurant', 'Deli / Bodega', 'Fast Food Restaurant',\n",
       "       'Home (private)', 'Japanese Restaurant',\n",
       "       'Middle Eastern Restaurant', 'Boarding House', 'Sandwich Place',\n",
       "       'Snack Place', 'Pizza Place', 'Ice Cream Shop',\n",
       "       'Mexican Restaurant', 'Seafood Restaurant', 'Laundry Service',\n",
       "       'Fried Chicken Joint', 'Mediterranean Restaurant', 'Cafeteria',\n",
       "       'Steakhouse', 'Diner', 'Sports Bar', 'Thai Restaurant',\n",
       "       'Latin American Restaurant', 'Ramen /  Noodle House', 'Soup Place',\n",
       "       'BBQ Joint', 'Grocery Store', 'Greek Restaurant', 'Food Court',\n",
       "       'Furniture / Home Store', 'Bank', 'Tapas Restaurant',\n",
       "       'Eastern European Restaurant', 'Nightclub', 'Donut Shop',\n",
       "       'Bagel Shop', 'African Restaurant', 'Dessert Shop',\n",
       "       'Cuban Restaurant', 'Hot Dog Joint', 'Hostel', 'Burrito Place',\n",
       "       'Concert Hall', 'Cocktail Bar', 'Argentinian Restaurant',\n",
       "       'Beer Garden', 'Museum', 'American Restaurant', 'Food Truck',\n",
       "       'Gastropub', 'Playground', 'Cupcake Shop', 'Car Dealership',\n",
       "       'Wine Bar', 'Winery', 'Indonesian Restaurant',\n",
       "       'Gluten-free Restaurant', 'Scandinavian Restaurant', 'Lounge',\n",
       "       'Arepa Restaurant', 'Food', 'Dance Studio', 'Beach',\n",
       "       'Mobile Phone Shop', 'Gourmet Shop', 'Juice Bar',\n",
       "       'Ethiopian Restaurant', 'Molecular Gastronomy Restaurant',\n",
       "       'South American Restaurant', 'Building', 'Art Gallery', 'Resort',\n",
       "       'Australian Restaurant', 'Office', 'Factory', 'Distillery',\n",
       "       'General Entertainment', 'Other Nightlife', 'Event Space',\n",
       "       'Fish Market', 'Salad Place', 'Bookstore', 'Wings Joint',\n",
       "       'Fish & Chips Shop', 'Spanish Restaurant', 'Miscellaneous Shop',\n",
       "       'Frozen Yogurt', 'Afghan Restaurant', 'Dumpling Restaurant',\n",
       "       'Convenience Store', 'Candy Store', 'New American Restaurant',\n",
       "       'Brazilian Restaurant'], dtype=object)"
      ]
     },
     "execution_count": 11,
     "metadata": {},
     "output_type": "execute_result"
    }
   ],
   "source": [
    "df.subCategory.unique()"
   ]
  },
  {
   "cell_type": "code",
   "execution_count": 14,
   "metadata": {},
   "outputs": [
    {
     "name": "stderr",
     "output_type": "stream",
     "text": [
      "/anaconda3/lib/python3.6/site-packages/ipykernel_launcher.py:1: ParserWarning: Falling back to the 'python' engine because the 'c' engine does not support regex separators (separators > 1 char and different from '\\s+' are interpreted as regex); you can avoid this warning by specifying engine='python'.\n",
      "  \"\"\"Entry point for launching an IPython kernel.\n"
     ]
    }
   ],
   "source": [
    "df = pd.read_csv('data/berlin-poi.csv', sep='delimiter', header=None)"
   ]
  },
  {
   "cell_type": "code",
   "execution_count": 15,
   "metadata": {},
   "outputs": [
    {
     "data": {
      "text/html": [
       "<div>\n",
       "<style scoped>\n",
       "    .dataframe tbody tr th:only-of-type {\n",
       "        vertical-align: middle;\n",
       "    }\n",
       "\n",
       "    .dataframe tbody tr th {\n",
       "        vertical-align: top;\n",
       "    }\n",
       "\n",
       "    .dataframe thead th {\n",
       "        text-align: right;\n",
       "    }\n",
       "</style>\n",
       "<table border=\"1\" class=\"dataframe\">\n",
       "  <thead>\n",
       "    <tr style=\"text-align: right;\">\n",
       "      <th></th>\n",
       "      <th>0</th>\n",
       "    </tr>\n",
       "  </thead>\n",
       "  <tbody>\n",
       "    <tr>\n",
       "      <th>0</th>\n",
       "      <td>id,name,address,category,location,lat,lng,deta...</td>\n",
       "    </tr>\n",
       "    <tr>\n",
       "      <th>1</th>\n",
       "      <td>91903,\"Apotheke Berlin Hauptbahnhof\",\"Europapl...</td>\n",
       "    </tr>\n",
       "    <tr>\n",
       "      <th>2</th>\n",
       "      <td>\"Pariser Platz\",poi,92204,52.516273095032,13.3...</td>\n",
       "    </tr>\n",
       "    <tr>\n",
       "      <th>3</th>\n",
       "      <td>Friedrichstraße,poi,92206,52.514967298868,13.3...</td>\n",
       "    </tr>\n",
       "    <tr>\n",
       "      <th>4</th>\n",
       "      <td>\"Unter den LInden 7\",poi,92217,52.51717407176,...</td>\n",
       "    </tr>\n",
       "  </tbody>\n",
       "</table>\n",
       "</div>"
      ],
      "text/plain": [
       "                                                   0\n",
       "0  id,name,address,category,location,lat,lng,deta...\n",
       "1  91903,\"Apotheke Berlin Hauptbahnhof\",\"Europapl...\n",
       "2  \"Pariser Platz\",poi,92204,52.516273095032,13.3...\n",
       "3  Friedrichstraße,poi,92206,52.514967298868,13.3...\n",
       "4  \"Unter den LInden 7\",poi,92217,52.51717407176,..."
      ]
     },
     "execution_count": 15,
     "metadata": {},
     "output_type": "execute_result"
    }
   ],
   "source": [
    "df.head()"
   ]
  },
  {
   "cell_type": "code",
   "execution_count": 16,
   "metadata": {},
   "outputs": [
    {
     "data": {
      "text/plain": [
       "(28889, 1)"
      ]
     },
     "execution_count": 16,
     "metadata": {},
     "output_type": "execute_result"
    }
   ],
   "source": [
    "df.shape"
   ]
  },
  {
   "cell_type": "code",
   "execution_count": 26,
   "metadata": {},
   "outputs": [
    {
     "ename": "SyntaxError",
     "evalue": "keyword argument repeated (<ipython-input-26-e9cca5c65958>, line 1)",
     "output_type": "error",
     "traceback": [
      "\u001b[0;36m  File \u001b[0;32m\"<ipython-input-26-e9cca5c65958>\"\u001b[0;36m, line \u001b[0;32m1\u001b[0m\n\u001b[0;31m    df = pd.read_csv('data/tourpedia/berlin-attraction.csv', sep='\\t', sep='\\,', header=0)\u001b[0m\n\u001b[0m                                                                      ^\u001b[0m\n\u001b[0;31mSyntaxError\u001b[0m\u001b[0;31m:\u001b[0m keyword argument repeated\n"
     ]
    }
   ],
   "source": [
    "df = pd.read_csv('data/tourpedia/berlin-attraction.csv', sep='\\t', header=0)"
   ]
  },
  {
   "cell_type": "code",
   "execution_count": 25,
   "metadata": {},
   "outputs": [
    {
     "data": {
      "text/html": [
       "<div>\n",
       "<style scoped>\n",
       "    .dataframe tbody tr th:only-of-type {\n",
       "        vertical-align: middle;\n",
       "    }\n",
       "\n",
       "    .dataframe tbody tr th {\n",
       "        vertical-align: top;\n",
       "    }\n",
       "\n",
       "    .dataframe thead th {\n",
       "        text-align: right;\n",
       "    }\n",
       "</style>\n",
       "<table border=\"1\" class=\"dataframe\">\n",
       "  <thead>\n",
       "    <tr style=\"text-align: right;\">\n",
       "      <th></th>\n",
       "      <th>id,name,address,category,location,lat,lng,details,reviews</th>\n",
       "    </tr>\n",
       "  </thead>\n",
       "  <tbody>\n",
       "    <tr>\n",
       "      <th>0</th>\n",
       "      <td>91906,Siegessäule,\"Straße des 17. Juni\",attrac...</td>\n",
       "    </tr>\n",
       "    <tr>\n",
       "      <th>1</th>\n",
       "      <td>Lychener Str. 23,attraction,91909,52.542503599...</td>\n",
       "    </tr>\n",
       "    <tr>\n",
       "      <th>2</th>\n",
       "      <td>Wrangelstraße 93,attraction,91910,52.499662,13...</td>\n",
       "    </tr>\n",
       "    <tr>\n",
       "      <th>3</th>\n",
       "      <td>Köpenicker Straße 137,attraction,91912,52.5080...</td>\n",
       "    </tr>\n",
       "    <tr>\n",
       "      <th>4</th>\n",
       "      <td>Friedrichstr. 151,attraction,91917,52.51833617...</td>\n",
       "    </tr>\n",
       "  </tbody>\n",
       "</table>\n",
       "</div>"
      ],
      "text/plain": [
       "  id,name,address,category,location,lat,lng,details,reviews\n",
       "0  91906,Siegessäule,\"Straße des 17. Juni\",attrac...       \n",
       "1  Lychener Str. 23,attraction,91909,52.542503599...       \n",
       "2  Wrangelstraße 93,attraction,91910,52.499662,13...       \n",
       "3  Köpenicker Straße 137,attraction,91912,52.5080...       \n",
       "4  Friedrichstr. 151,attraction,91917,52.51833617...       "
      ]
     },
     "execution_count": 25,
     "metadata": {},
     "output_type": "execute_result"
    }
   ],
   "source": [
    "df.head()"
   ]
  },
  {
   "cell_type": "code",
   "execution_count": 7,
   "metadata": {},
   "outputs": [
    {
     "data": {
      "text/plain": [
       "(9664, 1)"
      ]
     },
     "execution_count": 7,
     "metadata": {},
     "output_type": "execute_result"
    }
   ],
   "source": [
    "df.shape"
   ]
  },
  {
   "cell_type": "code",
   "execution_count": null,
   "metadata": {},
   "outputs": [],
   "source": []
  }
 ],
 "metadata": {
  "kernelspec": {
   "display_name": "Python 3",
   "language": "python",
   "name": "python3"
  },
  "language_info": {
   "codemirror_mode": {
    "name": "ipython",
    "version": 3
   },
   "file_extension": ".py",
   "mimetype": "text/x-python",
   "name": "python",
   "nbconvert_exporter": "python",
   "pygments_lexer": "ipython3",
   "version": "3.6.8"
  }
 },
 "nbformat": 4,
 "nbformat_minor": 2
}
